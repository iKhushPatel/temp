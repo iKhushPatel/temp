{
 "cells": [
  {
   "cell_type": "code",
   "execution_count": 1,
   "metadata": {},
   "outputs": [
    {
     "name": "stderr",
     "output_type": "stream",
     "text": [
      "[nltk_data] Downloading package movie_reviews to\n",
      "[nltk_data]     C:\\Users\\jeagg\\AppData\\Roaming\\nltk_data...\n",
      "[nltk_data]   Package movie_reviews is already up-to-date!\n"
     ]
    }
   ],
   "source": [
    "# In this method movie reviews are used to train the model. The movie review data can be extracted from the nltk module. In this method the text is not necessarily lemmize or tokenize. Just extracted and the AI work with it as it is. The AI therefore relies on identifying the various probability distribution that the train data exhibits.\n",
    "import nltk\n",
    "nltk.download('movie_reviews')\n",
    "from nltk.corpus import movie_reviews"
   ]
  },
  {
   "cell_type": "code",
   "execution_count": 2,
   "metadata": {},
   "outputs": [],
   "source": [
    "# the prediction algorithm used\n",
    "import nltk.classify.util\n",
    "from nltk.classify import NaiveBayesClassifier"
   ]
  },
  {
   "cell_type": "code",
   "execution_count": 3,
   "metadata": {},
   "outputs": [],
   "source": [
    "# this is  function to extract elements in dataset\n",
    "def extract_features(word_list):\n",
    "    return dict([(word,True) for word in word_list])"
   ]
  },
  {
   "cell_type": "code",
   "execution_count": 4,
   "metadata": {},
   "outputs": [],
   "source": [
    "if __name__=='__main__':\n",
    "#the line of code above,allows the code in the module to be importable by other modules, without executing the code block beneath on import. Simply a technical way of coding and comes in handy if u want to run the code between command window and script.\n",
    "    #Load positive and negative reviews which are loaded as txt\n",
    "    positive_fileids=movie_reviews.fileids('pos')\n",
    "    negative_fileids=movie_reviews.fileids('neg')\n",
    "# Fileids: return a list of file identifiers for the files that make up this corpus, or that make up the given category(s) if specified."
   ]
  },
  {
   "cell_type": "code",
   "execution_count": 5,
   "metadata": {},
   "outputs": [],
   "source": [
    "#extracts postive ande negative feature in the movie_review dataset\n",
    "features_positive=[(extract_features(movie_reviews.words(fileids=[f])),'Positive')for f in positive_fileids]\n",
    "features_negative=[(extract_features(movie_reviews.words(fileids=[f])),'Negative')for f in negative_fileids]"
   ]
  },
  {
   "cell_type": "code",
   "execution_count": 6,
   "metadata": {},
   "outputs": [],
   "source": [
    "#split the data into train and test (80/20)\n",
    "threshold_factor=0.8\n",
    "threshold_positive=int(threshold_factor*len(features_positive))\n",
    "threshold_negative=int(threshold_factor*len(features_negative))"
   ]
  },
  {
   "cell_type": "code",
   "execution_count": 7,
   "metadata": {},
   "outputs": [],
   "source": [
    "features_test=features_positive[:threshold_positive]+features_negative[:threshold_negative]\n",
    "features_train=features_positive[threshold_positive:]+features_negative[threshold_negative:]"
   ]
  },
  {
   "cell_type": "code",
   "execution_count": 8,
   "metadata": {},
   "outputs": [
    {
     "name": "stdout",
     "output_type": "stream",
     "text": [
      "\n",
      "Number of training datapoints: 400\n",
      "Number of test datapoints: 1600\n"
     ]
    }
   ],
   "source": [
    "print (\"\\nNumber of training datapoints:\",len(features_train))\n",
    "print (\"Number of test datapoints:\", len(features_test))\n"
   ]
  },
  {
   "cell_type": "code",
   "execution_count": 9,
   "metadata": {},
   "outputs": [],
   "source": [
    "#Train a Naive Bayes Classifier\n",
    "classifier=NaiveBayesClassifier.train(features_train)"
   ]
  },
  {
   "cell_type": "code",
   "execution_count": 10,
   "metadata": {},
   "outputs": [
    {
     "name": "stdout",
     "output_type": "stream",
     "text": [
      "Accuracy of the classifiers: 0.6425\n"
     ]
    }
   ],
   "source": [
    "print (\"Accuracy of the classifiers:\", nltk.classify.util.accuracy(classifier,features_test))"
   ]
  },
  {
   "cell_type": "code",
   "execution_count": 11,
   "metadata": {},
   "outputs": [
    {
     "name": "stdout",
     "output_type": "stream",
     "text": [
      "\n",
      "Top 10 most informative words:\n",
      "allows\n",
      "finest\n",
      "wonderfully\n",
      "loved\n",
      "necessarily\n",
      "aspects\n",
      "brilliantly\n",
      "disappointing\n",
      "flawed\n",
      "implausible\n"
     ]
    }
   ],
   "source": [
    "print (\"\\nTop 10 most informative words:\")\n",
    "for item in classifier.most_informative_features()[:10]:\n",
    "    print (item[0])\n"
   ]
  },
  {
   "cell_type": "markdown",
   "metadata": {},
   "source": [
    " This section text sample reviews to see how well the AI model is working"
   ]
  },
  {
   "cell_type": "code",
   "execution_count": 12,
   "metadata": {},
   "outputs": [],
   "source": [
    "# sample test\n",
    "input_reviews_s = [\n",
    "       \"It is an amazing movie\", \n",
    "       \"This is a dull movie. I would never recommend it to anyone.\",\n",
    "       \"The cinematography is pretty great in this movie\", \n",
    "       \"The direction was terrible and the story was all over the place\" \n",
    "   ]\n",
    "result_list_s=[]\n",
    "result_list2_s=[] "
   ]
  },
  {
   "cell_type": "code",
   "execution_count": 13,
   "metadata": {},
   "outputs": [
    {
     "name": "stdout",
     "output_type": "stream",
     "text": [
      "Predicted sentiment: Positive\n",
      "Probability: 0.58\n",
      "Predicted sentiment: Negative\n",
      "Probability: 0.86\n",
      "Predicted sentiment: Positive\n",
      "Probability: 0.5\n",
      "Predicted sentiment: Negative\n",
      "Probability: 0.72\n"
     ]
    }
   ],
   "source": [
    "for review in input_reviews_s:\n",
    "    probdist_s = classifier.prob_classify(extract_features(review.split()))\n",
    "    pred_sentiment_s = probdist_s.max()\n",
    "    prob_sentiment_s=round(probdist_s.prob(pred_sentiment_s), 2)\n",
    "    result_list_s.append(pred_sentiment_s)\n",
    "    result_list2_s.append(prob_sentiment_s)\n",
    "\n",
    "    print(\"Predicted sentiment:\",pred_sentiment_s)\n",
    "    print(\"Probability:\",prob_sentiment_s)"
   ]
  },
  {
   "cell_type": "code",
   "execution_count": 14,
   "metadata": {},
   "outputs": [],
   "source": [
    "import pandas as pd\n",
    "from pandas import DataFrame"
   ]
  },
  {
   "cell_type": "code",
   "execution_count": 15,
   "metadata": {},
   "outputs": [
    {
     "data": {
      "text/html": [
       "<div>\n",
       "<style scoped>\n",
       "    .dataframe tbody tr th:only-of-type {\n",
       "        vertical-align: middle;\n",
       "    }\n",
       "\n",
       "    .dataframe tbody tr th {\n",
       "        vertical-align: top;\n",
       "    }\n",
       "\n",
       "    .dataframe thead th {\n",
       "        text-align: right;\n",
       "    }\n",
       "</style>\n",
       "<table border=\"1\" class=\"dataframe\">\n",
       "  <thead>\n",
       "    <tr style=\"text-align: right;\">\n",
       "      <th></th>\n",
       "      <th>Unnamed: 0</th>\n",
       "      <th>Review</th>\n",
       "    </tr>\n",
       "  </thead>\n",
       "  <tbody>\n",
       "    <tr>\n",
       "      <th>0</th>\n",
       "      <td>0</td>\n",
       "      <td>[{'author_name': 'Alan Scott', 'author_url': '...</td>\n",
       "    </tr>\n",
       "    <tr>\n",
       "      <th>1</th>\n",
       "      <td>1</td>\n",
       "      <td>[{'author_name': 'Geneviève Ramage', 'author_u...</td>\n",
       "    </tr>\n",
       "    <tr>\n",
       "      <th>2</th>\n",
       "      <td>2</td>\n",
       "      <td>[{'author_name': 'Adam Popper', 'author_url': ...</td>\n",
       "    </tr>\n",
       "    <tr>\n",
       "      <th>3</th>\n",
       "      <td>3</td>\n",
       "      <td>[{'author_name': \"Tony Dell'Osso\", 'author_url...</td>\n",
       "    </tr>\n",
       "    <tr>\n",
       "      <th>4</th>\n",
       "      <td>4</td>\n",
       "      <td>[{'author_name': 'Ben Mascioli', 'author_url':...</td>\n",
       "    </tr>\n",
       "  </tbody>\n",
       "</table>\n",
       "</div>"
      ],
      "text/plain": [
       "   Unnamed: 0                                             Review\n",
       "0           0  [{'author_name': 'Alan Scott', 'author_url': '...\n",
       "1           1  [{'author_name': 'Geneviève Ramage', 'author_u...\n",
       "2           2  [{'author_name': 'Adam Popper', 'author_url': ...\n",
       "3           3  [{'author_name': \"Tony Dell'Osso\", 'author_url...\n",
       "4           4  [{'author_name': 'Ben Mascioli', 'author_url':..."
      ]
     },
     "execution_count": 15,
     "metadata": {},
     "output_type": "execute_result"
    }
   ],
   "source": [
    "sent_df=pd.read_csv(\"Reviews.csv\")\n",
    "sent_df.head()"
   ]
  },
  {
   "cell_type": "code",
   "execution_count": 16,
   "metadata": {},
   "outputs": [],
   "source": [
    "sent_df2=sent_df[\"Review\"]"
   ]
  },
  {
   "cell_type": "code",
   "execution_count": 17,
   "metadata": {},
   "outputs": [],
   "source": [
    "input_reviews=sent_df2.tolist()"
   ]
  },
  {
   "cell_type": "code",
   "execution_count": 18,
   "metadata": {},
   "outputs": [],
   "source": [
    "result_list=[]\n",
    "result_list2=[]"
   ]
  },
  {
   "cell_type": "code",
   "execution_count": 19,
   "metadata": {},
   "outputs": [],
   "source": [
    "#print('Predictions:')\n",
    "for review in input_reviews:\n",
    "    #print ('Review', review)\n",
    "    probdist = classifier.prob_classify(extract_features(review.split()))\n",
    "    pred_sentiment = probdist.max()\n",
    "    prob_sentiment=round(probdist.prob(pred_sentiment), 2)\n",
    "    result_list.append(pred_sentiment)\n",
    "    result_list2.append(prob_sentiment)"
   ]
  },
  {
   "cell_type": "code",
   "execution_count": 20,
   "metadata": {},
   "outputs": [],
   "source": [
    "df_sent=DataFrame(input_reviews,columns=['Review'])\n",
    "df_result=DataFrame(result_list,columns=['Sentiment'])\n",
    "df_result2=DataFrame(result_list2,columns=['Probaility of Sentiment'])\n"
   ]
  },
  {
   "cell_type": "code",
   "execution_count": 21,
   "metadata": {},
   "outputs": [],
   "source": [
    "df_sent.to_csv(\"Reviews_m2.csv\" )\n",
    "df_result.to_csv(\"Sentiment_results_m2.csv\")\n",
    "df_result2.to_csv(\"Probability of Sentiment_m2.csv\")\n"
   ]
  }
 ],
 "metadata": {
  "kernelspec": {
   "display_name": "Python 3",
   "language": "python",
   "name": "python3"
  },
  "language_info": {
   "codemirror_mode": {
    "name": "ipython",
    "version": 3
   },
   "file_extension": ".py",
   "mimetype": "text/x-python",
   "name": "python",
   "nbconvert_exporter": "python",
   "pygments_lexer": "ipython3",
   "version": "3.8.3"
  }
 },
 "nbformat": 4,
 "nbformat_minor": 2
}
